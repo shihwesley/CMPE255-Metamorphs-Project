{
 "cells": [
  {
   "cell_type": "code",
   "execution_count": 2,
   "metadata": {},
   "outputs": [
    {
     "name": "stdout",
     "output_type": "stream",
     "text": [
      "Requirement already satisfied: jupyterlab in /home/codespace/.local/lib/python3.10/site-packages (3.5.0)\n",
      "Requirement already satisfied: jupyter-core in /home/codespace/.local/lib/python3.10/site-packages (from jupyterlab) (5.1.0)\n",
      "Requirement already satisfied: ipython in /home/codespace/.local/lib/python3.10/site-packages (from jupyterlab) (8.7.0)\n",
      "Requirement already satisfied: tomli in /home/codespace/.local/lib/python3.10/site-packages (from jupyterlab) (2.0.1)\n",
      "Requirement already satisfied: jupyterlab-server~=2.10 in /home/codespace/.local/lib/python3.10/site-packages (from jupyterlab) (2.16.3)\n",
      "Requirement already satisfied: jupyter-server<3,>=1.16.0 in /home/codespace/.local/lib/python3.10/site-packages (from jupyterlab) (1.23.3)\n",
      "Requirement already satisfied: notebook<7 in /home/codespace/.local/lib/python3.10/site-packages (from jupyterlab) (6.5.2)\n",
      "Requirement already satisfied: packaging in /home/codespace/.local/lib/python3.10/site-packages (from jupyterlab) (21.3)\n",
      "Requirement already satisfied: jinja2>=2.1 in /home/codespace/.local/lib/python3.10/site-packages (from jupyterlab) (3.1.2)\n",
      "Requirement already satisfied: nbclassic in /home/codespace/.local/lib/python3.10/site-packages (from jupyterlab) (0.4.8)\n",
      "Requirement already satisfied: tornado>=6.1.0 in /home/codespace/.local/lib/python3.10/site-packages (from jupyterlab) (6.2)\n",
      "Requirement already satisfied: MarkupSafe>=2.0 in /home/codespace/.local/lib/python3.10/site-packages (from jinja2>=2.1->jupyterlab) (2.1.1)\n",
      "Requirement already satisfied: nbformat>=5.2.0 in /home/codespace/.local/lib/python3.10/site-packages (from jupyter-server<3,>=1.16.0->jupyterlab) (5.7.0)\n",
      "Requirement already satisfied: anyio<4,>=3.1.0 in /home/codespace/.local/lib/python3.10/site-packages (from jupyter-server<3,>=1.16.0->jupyterlab) (3.6.2)\n",
      "Requirement already satisfied: nbconvert>=6.4.4 in /home/codespace/.local/lib/python3.10/site-packages (from jupyter-server<3,>=1.16.0->jupyterlab) (7.2.5)\n",
      "Requirement already satisfied: traitlets>=5.1 in /home/codespace/.local/lib/python3.10/site-packages (from jupyter-server<3,>=1.16.0->jupyterlab) (5.6.0)\n",
      "Requirement already satisfied: terminado>=0.8.3 in /home/codespace/.local/lib/python3.10/site-packages (from jupyter-server<3,>=1.16.0->jupyterlab) (0.17.0)\n",
      "Requirement already satisfied: websocket-client in /home/codespace/.local/lib/python3.10/site-packages (from jupyter-server<3,>=1.16.0->jupyterlab) (1.4.2)\n",
      "Requirement already satisfied: prometheus-client in /home/codespace/.local/lib/python3.10/site-packages (from jupyter-server<3,>=1.16.0->jupyterlab) (0.15.0)\n",
      "Requirement already satisfied: argon2-cffi in /home/codespace/.local/lib/python3.10/site-packages (from jupyter-server<3,>=1.16.0->jupyterlab) (21.3.0)\n",
      "Requirement already satisfied: jupyter-client>=6.1.12 in /home/codespace/.local/lib/python3.10/site-packages (from jupyter-server<3,>=1.16.0->jupyterlab) (7.4.7)\n",
      "Requirement already satisfied: pyzmq>=17 in /home/codespace/.local/lib/python3.10/site-packages (from jupyter-server<3,>=1.16.0->jupyterlab) (24.0.1)\n",
      "Requirement already satisfied: Send2Trash in /home/codespace/.local/lib/python3.10/site-packages (from jupyter-server<3,>=1.16.0->jupyterlab) (1.8.0)\n",
      "Requirement already satisfied: platformdirs>=2.5 in /home/codespace/.local/lib/python3.10/site-packages (from jupyter-core->jupyterlab) (2.5.4)\n",
      "Requirement already satisfied: babel in /home/codespace/.local/lib/python3.10/site-packages (from jupyterlab-server~=2.10->jupyterlab) (2.11.0)\n",
      "Requirement already satisfied: jsonschema>=3.0.1 in /home/codespace/.local/lib/python3.10/site-packages (from jupyterlab-server~=2.10->jupyterlab) (4.17.1)\n",
      "Requirement already satisfied: json5 in /home/codespace/.local/lib/python3.10/site-packages (from jupyterlab-server~=2.10->jupyterlab) (0.9.10)\n",
      "Requirement already satisfied: requests in /home/codespace/.local/lib/python3.10/site-packages (from jupyterlab-server~=2.10->jupyterlab) (2.28.1)\n",
      "Requirement already satisfied: nest-asyncio>=1.5 in /home/codespace/.local/lib/python3.10/site-packages (from notebook<7->jupyterlab) (1.5.6)\n",
      "Requirement already satisfied: ipython-genutils in /home/codespace/.local/lib/python3.10/site-packages (from notebook<7->jupyterlab) (0.2.0)\n",
      "Requirement already satisfied: ipykernel in /home/codespace/.local/lib/python3.10/site-packages (from notebook<7->jupyterlab) (6.17.1)\n",
      "Requirement already satisfied: notebook-shim>=0.1.0 in /home/codespace/.local/lib/python3.10/site-packages (from nbclassic->jupyterlab) (0.2.2)\n",
      "Requirement already satisfied: matplotlib-inline in /home/codespace/.local/lib/python3.10/site-packages (from ipython->jupyterlab) (0.1.6)\n",
      "Requirement already satisfied: pexpect>4.3 in /home/codespace/.local/lib/python3.10/site-packages (from ipython->jupyterlab) (4.8.0)\n",
      "Requirement already satisfied: prompt-toolkit<3.1.0,>=3.0.11 in /home/codespace/.local/lib/python3.10/site-packages (from ipython->jupyterlab) (3.0.33)\n",
      "Requirement already satisfied: jedi>=0.16 in /home/codespace/.local/lib/python3.10/site-packages (from ipython->jupyterlab) (0.18.2)\n",
      "Requirement already satisfied: decorator in /home/codespace/.local/lib/python3.10/site-packages (from ipython->jupyterlab) (5.1.1)\n",
      "Requirement already satisfied: pygments>=2.4.0 in /home/codespace/.local/lib/python3.10/site-packages (from ipython->jupyterlab) (2.13.0)\n",
      "Requirement already satisfied: pickleshare in /home/codespace/.local/lib/python3.10/site-packages (from ipython->jupyterlab) (0.7.5)\n",
      "Requirement already satisfied: stack-data in /home/codespace/.local/lib/python3.10/site-packages (from ipython->jupyterlab) (0.6.2)\n",
      "Requirement already satisfied: backcall in /home/codespace/.local/lib/python3.10/site-packages (from ipython->jupyterlab) (0.2.0)\n",
      "Requirement already satisfied: pyparsing!=3.0.5,>=2.0.2 in /home/codespace/.local/lib/python3.10/site-packages (from packaging->jupyterlab) (3.0.9)\n",
      "Requirement already satisfied: sniffio>=1.1 in /home/codespace/.local/lib/python3.10/site-packages (from anyio<4,>=3.1.0->jupyter-server<3,>=1.16.0->jupyterlab) (1.3.0)\n",
      "Requirement already satisfied: idna>=2.8 in /home/codespace/.local/lib/python3.10/site-packages (from anyio<4,>=3.1.0->jupyter-server<3,>=1.16.0->jupyterlab) (3.4)\n",
      "Requirement already satisfied: parso<0.9.0,>=0.8.0 in /home/codespace/.local/lib/python3.10/site-packages (from jedi>=0.16->ipython->jupyterlab) (0.8.3)\n",
      "Requirement already satisfied: pyrsistent!=0.17.0,!=0.17.1,!=0.17.2,>=0.14.0 in /home/codespace/.local/lib/python3.10/site-packages (from jsonschema>=3.0.1->jupyterlab-server~=2.10->jupyterlab) (0.19.2)\n",
      "Requirement already satisfied: attrs>=17.4.0 in /home/codespace/.local/lib/python3.10/site-packages (from jsonschema>=3.0.1->jupyterlab-server~=2.10->jupyterlab) (22.1.0)\n",
      "Requirement already satisfied: entrypoints in /home/codespace/.local/lib/python3.10/site-packages (from jupyter-client>=6.1.12->jupyter-server<3,>=1.16.0->jupyterlab) (0.4)\n",
      "Requirement already satisfied: python-dateutil>=2.8.2 in /home/codespace/.local/lib/python3.10/site-packages (from jupyter-client>=6.1.12->jupyter-server<3,>=1.16.0->jupyterlab) (2.8.2)\n",
      "Requirement already satisfied: tinycss2 in /home/codespace/.local/lib/python3.10/site-packages (from nbconvert>=6.4.4->jupyter-server<3,>=1.16.0->jupyterlab) (1.2.1)\n",
      "Requirement already satisfied: bleach in /home/codespace/.local/lib/python3.10/site-packages (from nbconvert>=6.4.4->jupyter-server<3,>=1.16.0->jupyterlab) (5.0.1)\n",
      "Requirement already satisfied: jupyterlab-pygments in /home/codespace/.local/lib/python3.10/site-packages (from nbconvert>=6.4.4->jupyter-server<3,>=1.16.0->jupyterlab) (0.2.2)\n",
      "Requirement already satisfied: defusedxml in /home/codespace/.local/lib/python3.10/site-packages (from nbconvert>=6.4.4->jupyter-server<3,>=1.16.0->jupyterlab) (0.7.1)\n",
      "Requirement already satisfied: nbclient>=0.5.0 in /home/codespace/.local/lib/python3.10/site-packages (from nbconvert>=6.4.4->jupyter-server<3,>=1.16.0->jupyterlab) (0.7.2)\n",
      "Requirement already satisfied: mistune<3,>=2.0.3 in /home/codespace/.local/lib/python3.10/site-packages (from nbconvert>=6.4.4->jupyter-server<3,>=1.16.0->jupyterlab) (2.0.4)\n",
      "Requirement already satisfied: beautifulsoup4 in /home/codespace/.local/lib/python3.10/site-packages (from nbconvert>=6.4.4->jupyter-server<3,>=1.16.0->jupyterlab) (4.11.1)\n",
      "Requirement already satisfied: pandocfilters>=1.4.1 in /home/codespace/.local/lib/python3.10/site-packages (from nbconvert>=6.4.4->jupyter-server<3,>=1.16.0->jupyterlab) (1.5.0)\n",
      "Requirement already satisfied: fastjsonschema in /home/codespace/.local/lib/python3.10/site-packages (from nbformat>=5.2.0->jupyter-server<3,>=1.16.0->jupyterlab) (2.16.2)\n",
      "Requirement already satisfied: ptyprocess>=0.5 in /home/codespace/.local/lib/python3.10/site-packages (from pexpect>4.3->ipython->jupyterlab) (0.7.0)\n",
      "Requirement already satisfied: wcwidth in /home/codespace/.local/lib/python3.10/site-packages (from prompt-toolkit<3.1.0,>=3.0.11->ipython->jupyterlab) (0.2.5)\n",
      "Requirement already satisfied: argon2-cffi-bindings in /home/codespace/.local/lib/python3.10/site-packages (from argon2-cffi->jupyter-server<3,>=1.16.0->jupyterlab) (21.2.0)\n",
      "Requirement already satisfied: pytz>=2015.7 in /home/codespace/.local/lib/python3.10/site-packages (from babel->jupyterlab-server~=2.10->jupyterlab) (2022.6)\n",
      "Requirement already satisfied: psutil in /home/codespace/.local/lib/python3.10/site-packages (from ipykernel->notebook<7->jupyterlab) (5.9.4)\n",
      "Requirement already satisfied: debugpy>=1.0 in /home/codespace/.local/lib/python3.10/site-packages (from ipykernel->notebook<7->jupyterlab) (1.6.4)\n",
      "Requirement already satisfied: charset-normalizer<3,>=2 in /home/codespace/.local/lib/python3.10/site-packages (from requests->jupyterlab-server~=2.10->jupyterlab) (2.1.1)\n",
      "Requirement already satisfied: certifi>=2017.4.17 in /home/codespace/.local/lib/python3.10/site-packages (from requests->jupyterlab-server~=2.10->jupyterlab) (2022.9.24)\n",
      "Requirement already satisfied: urllib3<1.27,>=1.21.1 in /home/codespace/.local/lib/python3.10/site-packages (from requests->jupyterlab-server~=2.10->jupyterlab) (1.26.13)\n",
      "Requirement already satisfied: pure-eval in /home/codespace/.local/lib/python3.10/site-packages (from stack-data->ipython->jupyterlab) (0.2.2)\n",
      "Requirement already satisfied: executing>=1.2.0 in /home/codespace/.local/lib/python3.10/site-packages (from stack-data->ipython->jupyterlab) (1.2.0)\n",
      "Requirement already satisfied: asttokens>=2.1.0 in /home/codespace/.local/lib/python3.10/site-packages (from stack-data->ipython->jupyterlab) (2.2.0)\n",
      "Requirement already satisfied: six in /home/codespace/.local/lib/python3.10/site-packages (from asttokens>=2.1.0->stack-data->ipython->jupyterlab) (1.16.0)\n",
      "Requirement already satisfied: cffi>=1.0.1 in /home/codespace/.local/lib/python3.10/site-packages (from argon2-cffi-bindings->argon2-cffi->jupyter-server<3,>=1.16.0->jupyterlab) (1.15.1)\n",
      "Requirement already satisfied: soupsieve>1.2 in /home/codespace/.local/lib/python3.10/site-packages (from beautifulsoup4->nbconvert>=6.4.4->jupyter-server<3,>=1.16.0->jupyterlab) (2.3.2.post1)\n",
      "Requirement already satisfied: webencodings in /home/codespace/.local/lib/python3.10/site-packages (from bleach->nbconvert>=6.4.4->jupyter-server<3,>=1.16.0->jupyterlab) (0.5.1)\n",
      "Requirement already satisfied: pycparser in /home/codespace/.local/lib/python3.10/site-packages (from cffi>=1.0.1->argon2-cffi-bindings->argon2-cffi->jupyter-server<3,>=1.16.0->jupyterlab) (2.21)\n",
      "Note: you may need to restart the kernel to use updated packages.\n"
     ]
    }
   ],
   "source": [
    "pip install jupyterlab"
   ]
  }
 ],
 "metadata": {
  "kernelspec": {
   "display_name": "Python 3",
   "language": "python",
   "name": "python3"
  },
  "language_info": {
   "codemirror_mode": {
    "name": "ipython",
    "version": 3
   },
   "file_extension": ".py",
   "mimetype": "text/x-python",
   "name": "python",
   "nbconvert_exporter": "python",
   "pygments_lexer": "ipython3",
   "version": "3.10.4"
  },
  "orig_nbformat": 4,
  "vscode": {
   "interpreter": {
    "hash": "3ad933181bd8a04b432d3370b9dc3b0662ad032c4dfaa4e4f1596c548f763858"
   }
  }
 },
 "nbformat": 4,
 "nbformat_minor": 2
}
